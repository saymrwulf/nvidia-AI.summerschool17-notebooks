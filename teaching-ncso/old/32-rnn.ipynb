{
 "metadata": {
  "name": "32-rnn"
 },
 "nbformat": 3,
 "nbformat_minor": 0,
 "worksheets": [
  {
   "cells": [
    {
     "cell_type": "markdown",
     "metadata": {},
     "source": [
      "Title: Multilayer Architectures\n",
      "Author: Thomas Breuel\n",
      "Institution: UniKL"
     ]
    },
    {
     "cell_type": "code",
     "collapsed": false,
     "input": [
      "\n",
      "import scipy,pylab,numpy\n",
      "from numpy import *\n",
      "from scipy import *\n",
      "from pylab import *\n",
      "from urllib import urlopen\n",
      "from gzip import GzipFile\n",
      "from scipy.spatial import distance\n",
      "from scipy.spatial.distance import cdist\n",
      "\n",
      "def sigmoid(x):\n",
      "    return 1/(1+exp(-x))"
     ],
     "language": "python",
     "metadata": {},
     "outputs": [],
     "prompt_number": 1
    },
    {
     "cell_type": "code",
     "collapsed": false,
     "input": [
      "N = 20\n",
      "ni = 3\n",
      "no = 2\n",
      "seq = array(rand(N)*ni,'i')%3\n",
      "output = 1*(roll(seq,1)==0)*(seq==1)\n",
      "target = zeros((N,no))\n",
      "target[output] = 1\n",
      "plot(seq[:20])\n",
      "plot(output[:20])"
     ],
     "language": "python",
     "metadata": {},
     "outputs": [
      {
       "output_type": "pyout",
       "prompt_number": 2,
       "text": [
        "[<matplotlib.lines.Line2D at 0x3c30650>]"
       ]
      },
      {
       "output_type": "display_data",
       "png": "[encoded data removed]"
      }
     ],
     "prompt_number": 2
    },
    {
     "cell_type": "code",
     "collapsed": false,
     "input": [
      "xs = zeros((N,ni))\n",
      "for i,n in enumerate(seq): xs[i,n] = 1.0\n",
      "imshow(xs[:20,:].T,interpolation='nearest')"
     ],
     "language": "python",
     "metadata": {},
     "outputs": [
      {
       "output_type": "pyout",
       "prompt_number": 3,
       "text": [
        "<matplotlib.image.AxesImage at 0x3db1a50>"
       ]
      },
      {
       "output_type": "display_data",
       "png": "[encoded data removed]"
      }
     ],
     "prompt_number": 3
    },
    {
     "cell_type": "code",
     "collapsed": false,
     "input": [
      "nh = 3\n",
      "ys = zeros((N,nh))\n",
      "zs = zeros((N,no))"
     ],
     "language": "python",
     "metadata": {},
     "outputs": [],
     "prompt_number": 4
    },
    {
     "cell_type": "code",
     "collapsed": false,
     "input": [
      "A = randn(nh,ni)\n",
      "a = randn(nh)\n",
      "B = randn(no,nh)\n",
      "b = randn(no)"
     ],
     "language": "python",
     "metadata": {},
     "outputs": [],
     "prompt_number": 5
    },
    {
     "cell_type": "code",
     "collapsed": false,
     "input": [
      "def sigmoid(x): return 1/(1+exp(-x))"
     ],
     "language": "python",
     "metadata": {},
     "outputs": [],
     "prompt_number": 6
    },
    {
     "cell_type": "code",
     "collapsed": false,
     "input": [
      "def forward():\n",
      "    for t in range(N-1):\n",
      "        ys[t] = sigmoid(dot(A,xs[t])+a)\n",
      "        zs[t] = sigmoid(dot(B,ys[t])+b)"
     ],
     "language": "python",
     "metadata": {},
     "outputs": [],
     "prompt_number": 7
    },
    {
     "cell_type": "code",
     "collapsed": false,
     "input": [
      "forward()"
     ],
     "language": "python",
     "metadata": {},
     "outputs": [],
     "prompt_number": 8
    },
    {
     "cell_type": "code",
     "collapsed": false,
     "input": [
      "dzs = zeros((N,no))\n",
      "dys = zeros((N,nh))"
     ],
     "language": "python",
     "metadata": {},
     "outputs": [],
     "prompt_number": 20
    },
    {
     "cell_type": "code",
     "collapsed": false,
     "input": [
      "def backward():\n",
      "    for t in range(N-1)[::-1]:\n",
      "        dzs[t] = (zs[t]-target[t])*zs[t]*(1-zs[t])\n",
      "        dys[t] = dot(dzs[t],B)*ys[t]*(1-ys[t])"
     ],
     "language": "python",
     "metadata": {},
     "outputs": [],
     "prompt_number": 21
    },
    {
     "cell_type": "code",
     "collapsed": false,
     "input": [
      "backward()"
     ],
     "language": "python",
     "metadata": {},
     "outputs": [],
     "prompt_number": 10
    },
    {
     "cell_type": "code",
     "collapsed": false,
     "input": [
      "def update(eta=0.3):\n",
      "    global A,a,B,b\n",
      "    for t in range(N-1):\n",
      "        B -= eta*outer(dzs[t],ys[t])\n",
      "        b -= eta*dzs[t]\n",
      "        A -= eta*outer(dys[t],xs[t])\n",
      "        a -= eta*dys[t]"
     ],
     "language": "python",
     "metadata": {},
     "outputs": [],
     "prompt_number": 13
    },
    {
     "cell_type": "code",
     "collapsed": false,
     "input": [
      "update()"
     ],
     "language": "python",
     "metadata": {},
     "outputs": [],
     "prompt_number": 14
    },
    {
     "cell_type": "code",
     "collapsed": false,
     "input": [
      "for i in range(1000):\n",
      "    forward()\n",
      "    backward()\n",
      "    update()\n",
      "    if i%100==0: print i,sum((zs[:N-1]-target[:N-1])**2)**.5"
     ],
     "language": "python",
     "metadata": {},
     "outputs": [
      {
       "output_type": "stream",
       "stream": "stdout",
       "text": [
        "0 2.08162539801\n",
        "100"
       ]
      },
      {
       "output_type": "stream",
       "stream": "stdout",
       "text": [
        " 1.8904233524\n",
        "200"
       ]
      },
      {
       "output_type": "stream",
       "stream": "stdout",
       "text": [
        " 1.87767422863\n",
        "300"
       ]
      },
      {
       "output_type": "stream",
       "stream": "stdout",
       "text": [
        " 1.86765662972\n",
        "400"
       ]
      },
      {
       "output_type": "stream",
       "stream": "stdout",
       "text": [
        " 1.86310296207\n",
        "500"
       ]
      },
      {
       "output_type": "stream",
       "stream": "stdout",
       "text": [
        " 1.86075458681\n",
        "600"
       ]
      },
      {
       "output_type": "stream",
       "stream": "stdout",
       "text": [
        " 1.85941584069\n",
        "700"
       ]
      },
      {
       "output_type": "stream",
       "stream": "stdout",
       "text": [
        " 1.8585984244\n",
        "800"
       ]
      },
      {
       "output_type": "stream",
       "stream": "stdout",
       "text": [
        " 1.85806426965\n",
        "900"
       ]
      },
      {
       "output_type": "stream",
       "stream": "stdout",
       "text": [
        " 1.85769429465\n"
       ]
      }
     ],
     "prompt_number": 15
    },
    {
     "cell_type": "code",
     "collapsed": false,
     "input": [
      "A = randn(nh,ni)\n",
      "a = randn(nh)\n",
      "B = randn(no,nh)\n",
      "b = randn(no)"
     ],
     "language": "python",
     "metadata": {},
     "outputs": [],
     "prompt_number": 60
    },
    {
     "cell_type": "code",
     "collapsed": false,
     "input": [
      "ns = 3\n",
      "states = zeros((N,ns))\n",
      "S = randn(ns,nh+ns)\n",
      "s = randn(ns)"
     ],
     "language": "python",
     "metadata": {},
     "outputs": [],
     "prompt_number": 61
    },
    {
     "cell_type": "code",
     "collapsed": false,
     "input": [
      "def forward():\n",
      "    for t in range(N-1):\n",
      "        ys[t] = sigmoid(dot(A,xs[t])+a)\n",
      "        states[t] = sigmoid(dot(S,concatenate([ys[t],states[t-1]]))+s)\n",
      "        zs[t] = sigmoid(dot(B,ys[t])+b)"
     ],
     "language": "python",
     "metadata": {},
     "outputs": [],
     "prompt_number": 62
    },
    {
     "cell_type": "code",
     "collapsed": false,
     "input": [
      "forward()"
     ],
     "language": "python",
     "metadata": {},
     "outputs": [],
     "prompt_number": 63
    },
    {
     "cell_type": "code",
     "collapsed": false,
     "input": [
      "dstates = zeros((N,ns))"
     ],
     "language": "python",
     "metadata": {},
     "outputs": [],
     "prompt_number": 64
    },
    {
     "cell_type": "code",
     "collapsed": false,
     "input": [
      "def backward():\n",
      "    for t in range(N-1)[::-1]:\n",
      "        dzs[t] = (zs[t]-target[t])*zs[t]*(1-zs[t])\n",
      "        dys[t] = dot(dzs[t],B)*ys[t]*(1-ys[t])\n",
      "        v = dot(states[t],S)\n",
      "        dys[t] += v[:nh]\n",
      "        dstates[t-1] = v[nh:]"
     ],
     "language": "python",
     "metadata": {},
     "outputs": [],
     "prompt_number": 65
    },
    {
     "cell_type": "code",
     "collapsed": false,
     "input": [
      "backward()"
     ],
     "language": "python",
     "metadata": {},
     "outputs": [],
     "prompt_number": 66
    },
    {
     "cell_type": "code",
     "collapsed": false,
     "input": [
      "def update(eta=1.0):\n",
      "    global A,a,B,b,S,s\n",
      "    for t in range(N-1):\n",
      "        B -= eta*outer(dzs[t],ys[t])\n",
      "        b -= eta*dzs[t]\n",
      "        S -= eta*outer(dstates[t],concatenate([ys[t],states[t-1]]))\n",
      "        s -= eta*dstates[t]\n",
      "        A -= eta*outer(dys[t],xs[t])\n",
      "        a -= eta*dys[t]"
     ],
     "language": "python",
     "metadata": {},
     "outputs": [],
     "prompt_number": 70
    },
    {
     "cell_type": "code",
     "collapsed": false,
     "input": [
      "update()"
     ],
     "language": "python",
     "metadata": {},
     "outputs": [],
     "prompt_number": 71
    },
    {
     "cell_type": "code",
     "collapsed": false,
     "input": [
      "for i in range(1000):\n",
      "    forward()\n",
      "    backward()\n",
      "    update()\n",
      "    if i%100==0: print i,sum((zs[:N-1]-target[:N-1])**2)**.5"
     ],
     "language": "python",
     "metadata": {},
     "outputs": [
      {
       "output_type": "stream",
       "stream": "stdout",
       "text": [
        "0 1.85758042421\n",
        "100"
       ]
      },
      {
       "output_type": "stream",
       "stream": "stdout",
       "text": [
        " 1.85705193087\n",
        "200"
       ]
      },
      {
       "output_type": "stream",
       "stream": "stdout",
       "text": [
        " 1.8567707023\n",
        "300"
       ]
      },
      {
       "output_type": "stream",
       "stream": "stdout",
       "text": [
        " 1.85659832279\n",
        "400"
       ]
      },
      {
       "output_type": "stream",
       "stream": "stdout",
       "text": [
        " 1.85648265595\n",
        "500"
       ]
      },
      {
       "output_type": "stream",
       "stream": "stdout",
       "text": [
        " 1.85640002593\n",
        "600"
       ]
      },
      {
       "output_type": "stream",
       "stream": "stdout",
       "text": [
        " 1.85633822734\n",
        "700"
       ]
      },
      {
       "output_type": "stream",
       "stream": "stdout",
       "text": [
        " 1.85629036387\n",
        "800"
       ]
      },
      {
       "output_type": "stream",
       "stream": "stdout",
       "text": [
        " 1.85625225887\n",
        "900"
       ]
      },
      {
       "output_type": "stream",
       "stream": "stdout",
       "text": [
        " 1.85622124147\n"
       ]
      }
     ],
     "prompt_number": 72
    },
    {
     "cell_type": "code",
     "collapsed": false,
     "input": [
      "print A"
     ],
     "language": "python",
     "metadata": {},
     "outputs": [
      {
       "output_type": "stream",
       "stream": "stdout",
       "text": [
        "[[ -5.88549888  -9.06246784  -5.03989056]\n",
        " [ -1.36378817  -0.28744102   3.41206429]\n",
        " [ -6.06789449 -10.10759542  -4.22821784]]\n"
       ]
      }
     ],
     "prompt_number": 73
    },
    {
     "cell_type": "code",
     "collapsed": false,
     "input": [],
     "language": "python",
     "metadata": {},
     "outputs": []
    }
   ],
   "metadata": {}
  }
 ]
}